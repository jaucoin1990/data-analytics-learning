{
 "cells": [
  {
   "cell_type": "markdown",
   "metadata": {
    "collapsed": true
   },
   "source": [
    "Exploring Hacker News Posts"
   ]
  },
  {
   "cell_type": "code",
   "execution_count": 2,
   "metadata": {
    "collapsed": true
   },
   "outputs": [],
   "source": [
    "from csv import reader\n",
    "opened_file = open('hacker_news.csv')\n",
    "read_file = reader(opened_file)\n",
    "listed_file = list(read_file)\n",
    "hn = listed_file[1:]\n",
    "header = listed_file[0]"
   ]
  },
  {
   "cell_type": "code",
   "execution_count": 3,
   "metadata": {
    "collapsed": false
   },
   "outputs": [
    {
     "name": "stdout",
     "output_type": "stream",
     "text": [
      "[['12224879', 'Interactive Dynamic Video', 'http://www.interactivedynamicvideo.com/', '386', '52', 'ne0phyte', '8/4/2016 11:52'], ['10975351', 'How to Use Open Source and Shut the Fuck Up at the Same Time', 'http://hueniverse.com/2016/01/26/how-to-use-open-source-and-shut-the-fuck-up-at-the-same-time/', '39', '10', 'josep2', '1/26/2016 19:30'], ['11964716', \"Florida DJs May Face Felony for April Fools' Water Joke\", 'http://www.thewire.com/entertainment/2013/04/florida-djs-april-fools-water-joke/63798/', '2', '1', 'vezycash', '6/23/2016 22:20'], ['11919867', 'Technology ventures: From Idea to Enterprise', 'https://www.amazon.com/Technology-Ventures-Enterprise-Thomas-Byers/dp/0073523429', '3', '1', 'hswarna', '6/17/2016 0:01'], ['10301696', 'Note by Note: The Making of Steinway L1037 (2007)', 'http://www.nytimes.com/2007/11/07/movies/07stein.html?_r=0', '8', '2', 'walterbell', '9/30/2015 4:12']]\n",
      "['id', 'title', 'url', 'num_points', 'num_comments', 'author', 'created_at']\n"
     ]
    }
   ],
   "source": [
    "print(hn[:5])\n",
    "print(header)"
   ]
  },
  {
   "cell_type": "code",
   "execution_count": 6,
   "metadata": {
    "collapsed": false
   },
   "outputs": [
    {
     "name": "stdout",
     "output_type": "stream",
     "text": [
      "1744\n",
      "1162\n",
      "17194\n",
      "20100\n"
     ]
    }
   ],
   "source": [
    "ask_posts = []\n",
    "show_posts = []\n",
    "other_posts = []\n",
    "\n",
    "for row in hn:\n",
    "    title = row[1]\n",
    "    title = title.lower()\n",
    "    if title.startswith('ask hn'):\n",
    "        ask_posts.append(row)\n",
    "    elif title.startswith('show hn'):\n",
    "        show_posts.append(row)\n",
    "    else:\n",
    "        other_posts.append(row)\n",
    "\n",
    "print(len(ask_posts))\n",
    "print(len(show_posts))\n",
    "print(len(other_posts))\n",
    "print(len(hn))"
   ]
  },
  {
   "cell_type": "code",
   "execution_count": 7,
   "metadata": {
    "collapsed": false
   },
   "outputs": [
    {
     "name": "stdout",
     "output_type": "stream",
     "text": [
      "14.038417431192661\n",
      "10.31669535283993\n"
     ]
    }
   ],
   "source": [
    "total_ask_comments = 0\n",
    "total_show_comments = 0\n",
    "\n",
    "for row in ask_posts:\n",
    "    num_comments = float(row[4])\n",
    "    total_ask_comments += num_comments\n",
    "\n",
    "for row in show_posts:\n",
    "    num_comments = float(row[4])\n",
    "    total_show_comments += num_comments\n",
    "\n",
    "avg_ask_comments = total_ask_comments / len(ask_posts)\n",
    "avg_show_comments = total_show_comments / len(show_posts)\n",
    "\n",
    "print(avg_ask_comments)\n",
    "print(avg_show_comments)"
   ]
  },
  {
   "cell_type": "code",
   "execution_count": 8,
   "metadata": {
    "collapsed": true
   },
   "outputs": [],
   "source": [
    "import datetime as dt"
   ]
  },
  {
   "cell_type": "code",
   "execution_count": 13,
   "metadata": {
    "collapsed": false
   },
   "outputs": [
    {
     "name": "stdout",
     "output_type": "stream",
     "text": [
      "{'07': 34, '22': 71, '13': 85, '02': 58, '19': 110, '16': 108, '14': 107, '18': 109, '03': 54, '23': 68, '09': 45, '00': 55, '20': 80, '11': 58, '21': 109, '04': 47, '10': 59, '06': 44, '01': 60, '12': 73, '08': 48, '15': 116, '17': 100, '05': 46}\n",
      "{'07': 267.0, '22': 479.0, '13': 1253.0, '02': 1381.0, '19': 1188.0, '16': 1814.0, '14': 1416.0, '18': 1439.0, '03': 421.0, '23': 543.0, '09': 251.0, '00': 447.0, '20': 1722.0, '11': 641.0, '21': 1745.0, '04': 337.0, '10': 793.0, '06': 397.0, '01': 683.0, '12': 687.0, '08': 492.0, '15': 4477.0, '17': 1146.0, '05': 464.0}\n"
     ]
    }
   ],
   "source": [
    "#calculate the amount of ask posts created per hour, along with the total number of comments\n",
    "#dataset at -1 ('9/30/2015 4:12')\n",
    "\n",
    "ask_post_hour = {}\n",
    "comments_by_hour = {}\n",
    "\n",
    "for row in ask_posts:\n",
    "    time = row[-1]\n",
    "    comments = float(row[4])\n",
    "    time = dt.datetime.strptime(time, '%m/%d/%Y %H:%M')\n",
    "    hour = time.strftime('%H')\n",
    "    \n",
    "    if hour not in ask_post_hour:\n",
    "        ask_post_hour[hour] = 1\n",
    "        comments_by_hour[hour] = comments\n",
    "    else:\n",
    "        ask_post_hour[hour] += 1\n",
    "        comments_by_hour[hour] += comments\n",
    "\n",
    "print(ask_post_hour)\n",
    "print(comments_by_hour)"
   ]
  },
  {
   "cell_type": "code",
   "execution_count": 16,
   "metadata": {
    "collapsed": false
   },
   "outputs": [
    {
     "name": "stdout",
     "output_type": "stream",
     "text": [
      "[['07', 7.852941176470588], ['22', 6.746478873239437], ['13', 14.741176470588234], ['02', 23.810344827586206], ['19', 10.8], ['16', 16.796296296296298], ['14', 13.233644859813085], ['18', 13.20183486238532], ['03', 7.796296296296297], ['23', 7.985294117647059], ['09', 5.5777777777777775], ['00', 8.127272727272727], ['20', 21.525], ['11', 11.051724137931034], ['21', 16.009174311926607], ['04', 7.170212765957447], ['10', 13.440677966101696], ['06', 9.022727272727273], ['01', 11.383333333333333], ['12', 9.41095890410959], ['08', 10.25], ['15', 38.5948275862069], ['17', 11.46], ['05', 10.08695652173913]]\n"
     ]
    }
   ],
   "source": [
    "avg_by_hour = []\n",
    "\n",
    "for posts, comments in zip(ask_post_hour, comments_by_hour):\n",
    "    avg = comments_by_hour[comments] / ask_post_hour[posts]\n",
    "    avg_by_hour.append([posts, avg])\n",
    "    \n",
    "print(avg_by_hour)"
   ]
  },
  {
   "cell_type": "code",
   "execution_count": 19,
   "metadata": {
    "collapsed": false
   },
   "outputs": [
    {
     "name": "stdout",
     "output_type": "stream",
     "text": [
      "[[7.852941176470588, '07'], [6.746478873239437, '22'], [14.741176470588234, '13'], [23.810344827586206, '02'], [10.8, '19'], [16.796296296296298, '16'], [13.233644859813085, '14'], [13.20183486238532, '18'], [7.796296296296297, '03'], [7.985294117647059, '23'], [5.5777777777777775, '09'], [8.127272727272727, '00'], [21.525, '20'], [11.051724137931034, '11'], [16.009174311926607, '21'], [7.170212765957447, '04'], [13.440677966101696, '10'], [9.022727272727273, '06'], [11.383333333333333, '01'], [9.41095890410959, '12'], [10.25, '08'], [38.5948275862069, '15'], [11.46, '17'], [10.08695652173913, '05']]\n"
     ]
    }
   ],
   "source": [
    "swap_avg_by_hour = []\n",
    "\n",
    "for row in avg_by_hour:\n",
    "    swap_avg_by_hour.append([row[1], row[0]])\n",
    "    \n",
    "print(swap_avg_by_hour)"
   ]
  },
  {
   "cell_type": "code",
   "execution_count": 21,
   "metadata": {
    "collapsed": false
   },
   "outputs": [
    {
     "name": "stdout",
     "output_type": "stream",
     "text": [
      "[[38.5948275862069, '15'], [23.810344827586206, '02'], [21.525, '20'], [16.796296296296298, '16'], [16.009174311926607, '21'], [14.741176470588234, '13'], [13.440677966101696, '10'], [13.233644859813085, '14'], [13.20183486238532, '18'], [11.46, '17'], [11.383333333333333, '01'], [11.051724137931034, '11'], [10.8, '19'], [10.25, '08'], [10.08695652173913, '05'], [9.41095890410959, '12'], [9.022727272727273, '06'], [8.127272727272727, '00'], [7.985294117647059, '23'], [7.852941176470588, '07'], [7.796296296296297, '03'], [7.170212765957447, '04'], [6.746478873239437, '22'], [5.5777777777777775, '09']]\n"
     ]
    }
   ],
   "source": [
    "sorted_swap = sorted(swap_avg_by_hour, reverse=True)\n",
    "print(sorted_swap)"
   ]
  },
  {
   "cell_type": "code",
   "execution_count": 22,
   "metadata": {
    "collapsed": false
   },
   "outputs": [
    {
     "name": "stdout",
     "output_type": "stream",
     "text": [
      "Top 5 Hours for Ask Posts Comments\n"
     ]
    }
   ],
   "source": [
    "print(\"Top 5 Hours for Ask Posts Comments\")"
   ]
  },
  {
   "cell_type": "code",
   "execution_count": 25,
   "metadata": {
    "collapsed": false
   },
   "outputs": [
    {
     "name": "stdout",
     "output_type": "stream",
     "text": [
      "At hour 15:00: 38.59 average comments per post\n",
      "At hour 02:00: 23.81 average comments per post\n",
      "At hour 20:00: 21.52 average comments per post\n",
      "At hour 16:00: 16.80 average comments per post\n",
      "At hour 21:00: 16.01 average comments per post\n"
     ]
    }
   ],
   "source": [
    "for row in sorted_swap[:5]:\n",
    "    print('At hour {}:00: {:.2f} average comments per post'.format(row[1], row[0]))"
   ]
  },
  {
   "cell_type": "markdown",
   "metadata": {},
   "source": [
    "For a higher chance of receiving comments, you should post during the hours of 2am, 3pm, 4pm, 8pm, or 9pm, with 3pm being the best time to post."
   ]
  }
 ],
 "metadata": {
  "kernelspec": {
   "display_name": "Python 3",
   "language": "python",
   "name": "python3"
  },
  "language_info": {
   "codemirror_mode": {
    "name": "ipython",
    "version": 3
   },
   "file_extension": ".py",
   "mimetype": "text/x-python",
   "name": "python",
   "nbconvert_exporter": "python",
   "pygments_lexer": "ipython3",
   "version": "3.4.3"
  }
 },
 "nbformat": 4,
 "nbformat_minor": 2
}
